{
 "cells": [
  {
   "cell_type": "markdown",
   "metadata": {},
   "source": [
    "# Create a 2 player TicTacToe game"
   ]
  },
  {
   "cell_type": "markdown",
   "metadata": {},
   "source": [
    "The board should be displayed at every iteration, the game should ask if the user wants to repeat it again, the game should check for win lose tie situation"
   ]
  },
  {
   "cell_type": "code",
   "execution_count": 86,
   "metadata": {},
   "outputs": [],
   "source": [
    "from IPython.display import clear_output"
   ]
  },
  {
   "cell_type": "code",
   "execution_count": 87,
   "metadata": {},
   "outputs": [],
   "source": [
    "def disp_br():\n",
    "    for i in range(0,3):\n",
    "        print(br[3*i],br[3*i+1],br[3*i+2])"
   ]
  },
  {
   "cell_type": "code",
   "execution_count": 88,
   "metadata": {},
   "outputs": [],
   "source": [
    "def inp_br():\n",
    "    if it%2==0:\n",
    "        pos=int(input('Enter position for X'))\n",
    "#        xs.add(pos)\n",
    "        pos=pos-1\n",
    "        br[pos]='X'\n",
    "    else:\n",
    "        pos=int(input('Enter position for O'))\n",
    "#        os.add(pos)\n",
    "        pos=pos-1\n",
    "        br[pos]='O'"
   ]
  },
  {
   "cell_type": "code",
   "execution_count": 90,
   "metadata": {},
   "outputs": [],
   "source": [
    "def res_br():\n",
    "    if br[0]==br[1]==br[2] or br[3]==br[4]==br[5] or br[6]==br[7]==br[8] or br[0]==br[3]==br[6] or br[1]==br[4]==br[7] or br[2]==br[5]==br[8] or br[0]==br[4]==br[8] or br[2]==br[4]==br[6]:\n",
    "        if it%2==0:\n",
    "            print('X has won the game')\n",
    "        else:\n",
    "            print('O has won the game')\n",
    "        return 1"
   ]
  },
  {
   "cell_type": "code",
   "execution_count": 93,
   "metadata": {},
   "outputs": [
    {
     "name": "stdout",
     "output_type": "stream",
     "text": [
      "Thanks for playing\n"
     ]
    }
   ],
   "source": [
    "print('Welcome to the game of X and O')\n",
    "play='p'\n",
    "while(play=='p'):\n",
    "    br=[1,2,3,4,5,6,7,8,9]\n",
    "    w=0\n",
    "    it=0\n",
    "#    xs=set()\n",
    "#    os=set()\n",
    "    print('The board is as follows:')\n",
    "    disp_br()\n",
    "    while(it<9):\n",
    "        inp_br()\n",
    "        w=res_br()\n",
    "        disp_br()\n",
    "        if (w==1):\n",
    "            break\n",
    "        else: it=it+1\n",
    "    if it==9:\n",
    "        print('Game is a draw')\n",
    "    play=input('enter p to play again, enter q to quit')\n",
    "    clear_output()\n",
    "print('Thanks for playing')"
   ]
  },
  {
   "cell_type": "code",
   "execution_count": null,
   "metadata": {},
   "outputs": [],
   "source": []
  }
 ],
 "metadata": {
  "kernelspec": {
   "display_name": "Python 3",
   "language": "python",
   "name": "python3"
  },
  "language_info": {
   "codemirror_mode": {
    "name": "ipython",
    "version": 3
   },
   "file_extension": ".py",
   "mimetype": "text/x-python",
   "name": "python",
   "nbconvert_exporter": "python",
   "pygments_lexer": "ipython3",
   "version": "3.8.3"
  }
 },
 "nbformat": 4,
 "nbformat_minor": 4
}
