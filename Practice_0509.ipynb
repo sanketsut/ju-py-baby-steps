{
 "cells": [
  {
   "cell_type": "markdown",
   "metadata": {},
   "source": [
    "# Errors"
   ]
  },
  {
   "cell_type": "code",
   "execution_count": 1,
   "metadata": {},
   "outputs": [
    {
     "name": "stdout",
     "output_type": "stream",
     "text": [
      "TypoError aaya hai\n",
      "Finally block executed. End pe agaye\n"
     ]
    }
   ],
   "source": [
    "try:\n",
    "    2+'s'\n",
    "except:\n",
    "    print('TypeError aaya hai')\n",
    "finally:\n",
    "    print('Finally block executed. End pe agaye')"
   ]
  },
  {
   "cell_type": "markdown",
   "metadata": {},
   "source": [
    "# Errors with Exceptions, try-except-else-finally blocks for handling errors"
   ]
  },
  {
   "cell_type": "code",
   "execution_count": 2,
   "metadata": {},
   "outputs": [
    {
     "ename": "TypeError",
     "evalue": "unsupported operand type(s) for +: 'int' and 'str'",
     "output_type": "error",
     "traceback": [
      "\u001b[1;31m---------------------------------------------------------------------------\u001b[0m",
      "\u001b[1;31mTypeError\u001b[0m                                 Traceback (most recent call last)",
      "\u001b[1;32m<ipython-input-2-6511aed6fc7b>\u001b[0m in \u001b[0;36m<module>\u001b[1;34m\u001b[0m\n\u001b[1;32m----> 1\u001b[1;33m \u001b[1;36m2\u001b[0m\u001b[1;33m+\u001b[0m\u001b[1;34m'a'\u001b[0m\u001b[1;33m\u001b[0m\u001b[1;33m\u001b[0m\u001b[0m\n\u001b[0m",
      "\u001b[1;31mTypeError\u001b[0m: unsupported operand type(s) for +: 'int' and 'str'"
     ]
    }
   ],
   "source": [
    "2+'a'"
   ]
  },
  {
   "cell_type": "code",
   "execution_count": 4,
   "metadata": {},
   "outputs": [
    {
     "name": "stdout",
     "output_type": "stream",
     "text": [
      "It is a typeerror, try to correct it\n",
      "Finally block - goodbye\n"
     ]
    }
   ],
   "source": [
    "try:\n",
    "    2+'s'\n",
    "except:\n",
    "    print('It is a typeerror, try to correct it')\n",
    "else:\n",
    "    print('All is okayy')\n",
    "finally:\n",
    "    print('Finally block - goodbye')"
   ]
  },
  {
   "cell_type": "code",
   "execution_count": 10,
   "metadata": {},
   "outputs": [
    {
     "name": "stdout",
     "output_type": "stream",
     "text": [
      "Write operation successful\n",
      "Reached finally block, the end\n"
     ]
    }
   ],
   "source": [
    "try:\n",
    "    f=open('file121','w')\n",
    "    f.write('Hello World 121')\n",
    "except:\n",
    "    print('File write failed')\n",
    "else:\n",
    "    print('Write operation successful')\n",
    "finally:\n",
    "    print('Reached finally block, the end')"
   ]
  },
  {
   "cell_type": "code",
   "execution_count": 11,
   "metadata": {},
   "outputs": [
    {
     "name": "stdout",
     "output_type": "stream",
     "text": [
      "File write failed\n",
      "Reached finally block, the end\n"
     ]
    }
   ],
   "source": [
    "try:\n",
    "    f=open('file121','r')\n",
    "    f.write('Hello World 121')\n",
    "except:\n",
    "    print('File write failed')\n",
    "else:\n",
    "    print('Write operation successful')\n",
    "finally:\n",
    "    print('Reached finally block, the end')"
   ]
  },
  {
   "cell_type": "code",
   "execution_count": 19,
   "metadata": {},
   "outputs": [],
   "source": [
    "def chkint():\n",
    "    try:\n",
    "        val=int(input('Enter an integer'))\n",
    "    except:\n",
    "        print('You did not enter an integer')\n",
    "    else:\n",
    "        print('The value is an integer')\n",
    "    finally:\n",
    "        print(val)\n",
    "        print('Finally block. THE END')"
   ]
  },
  {
   "cell_type": "code",
   "execution_count": 20,
   "metadata": {},
   "outputs": [
    {
     "name": "stdout",
     "output_type": "stream",
     "text": [
      "Enter an integer5\n",
      "The value is an integer\n",
      "5\n",
      "Finally block. THE END\n"
     ]
    }
   ],
   "source": [
    "chkint()"
   ]
  },
  {
   "cell_type": "code",
   "execution_count": 21,
   "metadata": {},
   "outputs": [
    {
     "name": "stdout",
     "output_type": "stream",
     "text": [
      "Enter an integerfive\n",
      "You did not enter an integer\n"
     ]
    },
    {
     "ename": "UnboundLocalError",
     "evalue": "local variable 'val' referenced before assignment",
     "output_type": "error",
     "traceback": [
      "\u001b[1;31m---------------------------------------------------------------------------\u001b[0m",
      "\u001b[1;31mUnboundLocalError\u001b[0m                         Traceback (most recent call last)",
      "\u001b[1;32m<ipython-input-21-b015755c4077>\u001b[0m in \u001b[0;36m<module>\u001b[1;34m\u001b[0m\n\u001b[1;32m----> 1\u001b[1;33m \u001b[0mchkint\u001b[0m\u001b[1;33m(\u001b[0m\u001b[1;33m)\u001b[0m\u001b[1;33m\u001b[0m\u001b[1;33m\u001b[0m\u001b[0m\n\u001b[0m",
      "\u001b[1;32m<ipython-input-19-21f3f494f2e8>\u001b[0m in \u001b[0;36mchkint\u001b[1;34m()\u001b[0m\n\u001b[0;32m      7\u001b[0m         \u001b[0mprint\u001b[0m\u001b[1;33m(\u001b[0m\u001b[1;34m'The value is an integer'\u001b[0m\u001b[1;33m)\u001b[0m\u001b[1;33m\u001b[0m\u001b[1;33m\u001b[0m\u001b[0m\n\u001b[0;32m      8\u001b[0m     \u001b[1;32mfinally\u001b[0m\u001b[1;33m:\u001b[0m\u001b[1;33m\u001b[0m\u001b[1;33m\u001b[0m\u001b[0m\n\u001b[1;32m----> 9\u001b[1;33m         \u001b[0mprint\u001b[0m\u001b[1;33m(\u001b[0m\u001b[0mval\u001b[0m\u001b[1;33m)\u001b[0m\u001b[1;33m\u001b[0m\u001b[1;33m\u001b[0m\u001b[0m\n\u001b[0m\u001b[0;32m     10\u001b[0m         \u001b[0mprint\u001b[0m\u001b[1;33m(\u001b[0m\u001b[1;34m'Finally block. THE END'\u001b[0m\u001b[1;33m)\u001b[0m\u001b[1;33m\u001b[0m\u001b[1;33m\u001b[0m\u001b[0m\n",
      "\u001b[1;31mUnboundLocalError\u001b[0m: local variable 'val' referenced before assignment"
     ]
    }
   ],
   "source": [
    "chkint()"
   ]
  },
  {
   "cell_type": "code",
   "execution_count": 26,
   "metadata": {},
   "outputs": [],
   "source": [
    "def chkint1():\n",
    "        try:\n",
    "            val=int(input('Enter an integer'))\n",
    "        except:\n",
    "            val=input('You did not enter an integer. Please enter a numeral integer')\n",
    "        else:\n",
    "            print('The value is an integer')\n",
    "        finally:\n",
    "            print(val)\n",
    "            print('Finally block. THE END')"
   ]
  },
  {
   "cell_type": "code",
   "execution_count": 23,
   "metadata": {},
   "outputs": [
    {
     "name": "stdout",
     "output_type": "stream",
     "text": [
      "Enter an integerfive\n",
      "You did not enter an integer. Please enter a numeral integer5\n",
      "5\n",
      "Finally block. THE END\n"
     ]
    }
   ],
   "source": [
    "chkint1()"
   ]
  },
  {
   "cell_type": "code",
   "execution_count": 29,
   "metadata": {},
   "outputs": [],
   "source": [
    "def chkint2():\n",
    "    while True:\n",
    "        try:\n",
    "            val=int(input('Enter an integer'))\n",
    "        except ValueError:\n",
    "            print('You did not enter an integer. Please enter a numeral integer')\n",
    "            continue\n",
    "        else:\n",
    "            print(val,'The value is an integer')\n",
    "            break\n",
    "        finally:\n",
    "            print('Finally block. THE END')"
   ]
  },
  {
   "cell_type": "code",
   "execution_count": 30,
   "metadata": {},
   "outputs": [
    {
     "name": "stdout",
     "output_type": "stream",
     "text": [
      "Enter an integerfive\n",
      "You did not enter an integer. Please enter a numeral integer\n",
      "Finally block. THE END\n",
      "Enter an integerfivr\n",
      "You did not enter an integer. Please enter a numeral integer\n",
      "Finally block. THE END\n",
      "Enter an integersix\n",
      "You did not enter an integer. Please enter a numeral integer\n",
      "Finally block. THE END\n",
      "Enter an integer6\n",
      "6 The value is an integer\n",
      "Finally block. THE END\n"
     ]
    }
   ],
   "source": [
    "chkint2()"
   ]
  },
  {
   "cell_type": "markdown",
   "metadata": {},
   "source": [
    "# Errors and Exceptions homework"
   ]
  },
  {
   "cell_type": "code",
   "execution_count": 14,
   "metadata": {},
   "outputs": [
    {
     "name": "stdout",
     "output_type": "stream",
     "text": [
      "TypeError found - String cannot be powered\n"
     ]
    }
   ],
   "source": [
    "try:\n",
    "    for i in ['a','b','c']:\n",
    "        print(i**2)\n",
    "except TypeError:\n",
    "    print('TypeError found - String cannot be powered')"
   ]
  },
  {
   "cell_type": "code",
   "execution_count": 16,
   "metadata": {},
   "outputs": [
    {
     "name": "stdout",
     "output_type": "stream",
     "text": [
      "Do not divide by zero\n"
     ]
    }
   ],
   "source": [
    "try:\n",
    "    x=5\n",
    "    y=0\n",
    "    z=x/y\n",
    "except ZeroDivisionError:\n",
    "    print('Do not divide by zero')"
   ]
  },
  {
   "cell_type": "code",
   "execution_count": 34,
   "metadata": {},
   "outputs": [],
   "source": [
    "def asks():\n",
    "    while True:\n",
    "        try:\n",
    "            vala=int(input('Enter the value of an integer'))\n",
    "            print(vala**2)\n",
    "        except:\n",
    "            print('Please enter an integer. You entered an incorrect value')\n",
    "            continue\n",
    "        else:\n",
    "            break\n",
    "    print('Thanks for trying')"
   ]
  },
  {
   "cell_type": "code",
   "execution_count": 35,
   "metadata": {},
   "outputs": [
    {
     "name": "stdout",
     "output_type": "stream",
     "text": [
      "Enter the value of an integerfive\n",
      "Please enter an integer. You entered an incorrect value\n",
      "Enter the value of an integersix\n",
      "Please enter an integer. You entered an incorrect value\n",
      "Enter the value of an integer5\n",
      "25\n",
      "Thanks for trying\n"
     ]
    }
   ],
   "source": [
    "asks()"
   ]
  },
  {
   "cell_type": "markdown",
   "metadata": {},
   "source": [
    "Basically, any error caught anywhere in the try code is instantly directed to the except block, and the next lines of code are all skipped to display the error. Like here, since I entered 'five' instead of 5, it skipped the print() and directly went to the except"
   ]
  },
  {
   "cell_type": "code",
   "execution_count": null,
   "metadata": {},
   "outputs": [],
   "source": []
  }
 ],
 "metadata": {
  "kernelspec": {
   "display_name": "Python 3",
   "language": "python",
   "name": "python3"
  },
  "language_info": {
   "codemirror_mode": {
    "name": "ipython",
    "version": 3
   },
   "file_extension": ".py",
   "mimetype": "text/x-python",
   "name": "python",
   "nbconvert_exporter": "python",
   "pygments_lexer": "ipython3",
   "version": "3.8.3"
  }
 },
 "nbformat": 4,
 "nbformat_minor": 4
}
