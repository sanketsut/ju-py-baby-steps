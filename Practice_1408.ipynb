{
 "cells": [
  {
   "cell_type": "markdown",
   "metadata": {},
   "source": [
    "# Nested Statements and Scope"
   ]
  },
  {
   "cell_type": "code",
   "execution_count": 8,
   "metadata": {},
   "outputs": [
    {
     "name": "stdout",
     "output_type": "stream",
     "text": [
      "25\n",
      "Locally x in printer() is 50\n",
      "Globally x is 25\n"
     ]
    }
   ],
   "source": [
    "x=25\n",
    "\n",
    "def printer():\n",
    "    x=50\n",
    "    return x\n",
    "\n",
    "print (x)\n",
    "print ('Locally x in printer() is',printer())\n",
    "print ('Globally x is',x)"
   ]
  },
  {
   "cell_type": "code",
   "execution_count": 15,
   "metadata": {},
   "outputs": [
    {
     "name": "stdout",
     "output_type": "stream",
     "text": [
      "Morty says Enc fn name\n",
      "Global name\n"
     ]
    }
   ],
   "source": [
    "y='Global name'\n",
    "def greet():\n",
    "#    print(y)\n",
    "    y='Enc fn name'\n",
    "    def hi():\n",
    "        print ('Morty says',y)\n",
    "    hi()\n",
    "greet()\n",
    "print(y)"
   ]
  },
  {
   "cell_type": "code",
   "execution_count": 17,
   "metadata": {},
   "outputs": [
    {
     "name": "stdout",
     "output_type": "stream",
     "text": [
      "123\n",
      "123\n",
      "148\n"
     ]
    }
   ],
   "source": [
    "x=123\n",
    "print(x)\n",
    "def qwer():\n",
    "    global x\n",
    "    print(x)\n",
    "    x+=25\n",
    "qwer()\n",
    "print(x)"
   ]
  },
  {
   "cell_type": "markdown",
   "metadata": {},
   "source": [
    "# Functions and methods Homework"
   ]
  },
  {
   "cell_type": "code",
   "execution_count": 48,
   "metadata": {},
   "outputs": [],
   "source": [
    "#Function that computes vol of sphere\n",
    "def volsp(r):\n",
    "    return (4/3)*(22/7)*(r**3)"
   ]
  },
  {
   "cell_type": "code",
   "execution_count": 44,
   "metadata": {},
   "outputs": [],
   "source": [
    "#f1 that states if the no is within the range of numbers\n",
    "def ran_check(n,l,h):\n",
    "    if n in range(l,h):\n",
    "        print ('Number in range')\n",
    "    else:\n",
    "        print('Number not in range')"
   ]
  },
  {
   "cell_type": "code",
   "execution_count": 45,
   "metadata": {},
   "outputs": [
    {
     "name": "stdout",
     "output_type": "stream",
     "text": [
      "Number in range\n"
     ]
    }
   ],
   "source": [
    "ran_check(3,1,10)"
   ]
  },
  {
   "cell_type": "code",
   "execution_count": 46,
   "metadata": {},
   "outputs": [],
   "source": [
    "#f2 that checks if the no is within the range of numbers\n",
    "def ran_boolean(n,l,h):\n",
    "    if n in range(l,h):\n",
    "        return True\n",
    "    else:\n",
    "        return False"
   ]
  },
  {
   "cell_type": "code",
   "execution_count": 47,
   "metadata": {},
   "outputs": [
    {
     "data": {
      "text/plain": [
       "False"
      ]
     },
     "execution_count": 47,
     "metadata": {},
     "output_type": "execute_result"
    }
   ],
   "source": [
    "ran_boolean(20,1,10)"
   ]
  },
  {
   "cell_type": "code",
   "execution_count": 79,
   "metadata": {},
   "outputs": [],
   "source": [
    "#fn to find the total count of upper case and lower case letters\n",
    "def up_low(s):\n",
    "    u=0\n",
    "    l=0\n",
    "    j=0\n",
    "    for i in s:\n",
    "        if i.isupper()==True:\n",
    "            #d['u']+=1\n",
    "            u+=1\n",
    "        elif i.islower()==True:\n",
    "            #d['l']+=1\n",
    "            l+=1\n",
    "        j+=1\n",
    "    print(u)\n",
    "    print(l)"
   ]
  },
  {
   "cell_type": "code",
   "execution_count": 80,
   "metadata": {},
   "outputs": [
    {
     "name": "stdout",
     "output_type": "stream",
     "text": [
      "4\n",
      "32\n"
     ]
    }
   ],
   "source": [
    "up_low('Mr. Rodgers, it is a very Pleasant and Fine day!')"
   ]
  },
  {
   "cell_type": "code",
   "execution_count": 92,
   "metadata": {},
   "outputs": [
    {
     "name": "stdout",
     "output_type": "stream",
     "text": [
      "How r\n",
      "is r\n",
      "your r\n",
      "day r\n",
      "going r\n"
     ]
    }
   ],
   "source": [
    "s1='How is your day going'\n",
    "for i in s1.split():\n",
    "    print(i,s1[10])"
   ]
  },
  {
   "cell_type": "markdown",
   "metadata": {},
   "source": [
    "A string acts like a list, with every character acting as its individual elements, when it is called in a for loop. eg: if s='Hello' then after calling in for loop, s becomes ['H','e','l','l','o'] . To split into individual WORDS, use s.split()"
   ]
  },
  {
   "cell_type": "code",
   "execution_count": 103,
   "metadata": {},
   "outputs": [],
   "source": [
    "# fn to find the individual elements in a list\n",
    "def uni_list(a):\n",
    "    y=set()\n",
    "    for i in a:\n",
    "        y.add(i)\n",
    "    print(y)"
   ]
  },
  {
   "cell_type": "code",
   "execution_count": 104,
   "metadata": {},
   "outputs": [
    {
     "name": "stdout",
     "output_type": "stream",
     "text": [
      "{1, 2, 3, 4, 5}\n"
     ]
    }
   ],
   "source": [
    "uni_list([1,1,1,1,2,2,2,3,3,3,2,2,2,4,4,4,5,5])"
   ]
  },
  {
   "cell_type": "code",
   "execution_count": 108,
   "metadata": {},
   "outputs": [],
   "source": [
    "def uniq_list(a):\n",
    "    y=[]\n",
    "    for i in a:\n",
    "        if i not in y:\n",
    "            y.append(i)\n",
    "    print(y)"
   ]
  },
  {
   "cell_type": "code",
   "execution_count": 109,
   "metadata": {},
   "outputs": [
    {
     "name": "stdout",
     "output_type": "stream",
     "text": [
      "[1, 2, 3, 4, 5]\n"
     ]
    }
   ],
   "source": [
    "uniq_list([1,1,1,1,2,2,2,3,3,3,2,2,2,4,4,4,5,5])"
   ]
  },
  {
   "cell_type": "code",
   "execution_count": 110,
   "metadata": {},
   "outputs": [],
   "source": [
    "#fn to multiply all the nos in the list\n",
    "def no_multi(a):\n",
    "    t=1\n",
    "    for i in a:\n",
    "        t*=i\n",
    "    print(t)"
   ]
  },
  {
   "cell_type": "code",
   "execution_count": 111,
   "metadata": {},
   "outputs": [
    {
     "name": "stdout",
     "output_type": "stream",
     "text": [
      "120\n"
     ]
    }
   ],
   "source": [
    "no_multi([1,2,3,4,5])"
   ]
  },
  {
   "cell_type": "code",
   "execution_count": 121,
   "metadata": {},
   "outputs": [],
   "source": [
    "def palin(s):\n",
    "    return s==s[::-1]"
   ]
  },
  {
   "cell_type": "code",
   "execution_count": 122,
   "metadata": {},
   "outputs": [
    {
     "data": {
      "text/plain": [
       "True"
      ]
     },
     "execution_count": 122,
     "metadata": {},
     "output_type": "execute_result"
    }
   ],
   "source": [
    "palin('hallah')"
   ]
  },
  {
   "cell_type": "code",
   "execution_count": 123,
   "metadata": {},
   "outputs": [
    {
     "data": {
      "text/plain": [
       "False"
      ]
     },
     "execution_count": 123,
     "metadata": {},
     "output_type": "execute_result"
    }
   ],
   "source": [
    "palin('Yellow')"
   ]
  },
  {
   "cell_type": "code",
   "execution_count": 124,
   "metadata": {},
   "outputs": [],
   "source": [
    "def ispangram(a):\n",
    "    x=set()\n",
    "    for i in a:\n",
    "        if i.isalpha()==True:\n",
    "            x.add(i)\n",
    "    if len(x)==26:\n",
    "        print('Pangram')\n",
    "    else: print('Not Pangram')"
   ]
  },
  {
   "cell_type": "code",
   "execution_count": 125,
   "metadata": {},
   "outputs": [
    {
     "name": "stdout",
     "output_type": "stream",
     "text": [
      "Not Pangram\n"
     ]
    }
   ],
   "source": [
    "ispangram('qwert')"
   ]
  },
  {
   "cell_type": "code",
   "execution_count": 126,
   "metadata": {},
   "outputs": [
    {
     "name": "stdout",
     "output_type": "stream",
     "text": [
      "Pangram\n"
     ]
    }
   ],
   "source": [
    "ispangram('qwertyuioplkjhgfdsazxcvbnm')"
   ]
  },
  {
   "cell_type": "code",
   "execution_count": 127,
   "metadata": {},
   "outputs": [
    {
     "name": "stdout",
     "output_type": "stream",
     "text": [
      "Pangram\n"
     ]
    }
   ],
   "source": [
    "ispangram('the quick brown fox jumps over the lazy dog')"
   ]
  },
  {
   "cell_type": "code",
   "execution_count": null,
   "metadata": {},
   "outputs": [],
   "source": []
  }
 ],
 "metadata": {
  "kernelspec": {
   "display_name": "Python 3",
   "language": "python",
   "name": "python3"
  },
  "language_info": {
   "codemirror_mode": {
    "name": "ipython",
    "version": 3
   },
   "file_extension": ".py",
   "mimetype": "text/x-python",
   "name": "python",
   "nbconvert_exporter": "python",
   "pygments_lexer": "ipython3",
   "version": "3.8.3"
  }
 },
 "nbformat": 4,
 "nbformat_minor": 4
}
